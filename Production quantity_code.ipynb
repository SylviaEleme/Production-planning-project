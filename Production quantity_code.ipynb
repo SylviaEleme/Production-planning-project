{
 "cells": [
  {
   "cell_type": "code",
   "execution_count": 13,
   "id": "2eb0caef-9eab-4762-bfb9-40d4aac997f1",
   "metadata": {},
   "outputs": [
    {
     "name": "stdout",
     "output_type": "stream",
     "text": [
      "=========== Welcome to Azubi store ===========\n",
      "\n"
     ]
    },
    {
     "name": "stdin",
     "output_type": "stream",
     "text": [
      "Enter Initial Stock Level for the Product:  500\n",
      "Enter Number of Months to Plan:  5\n",
      ">>> Please enter the planned sales quantity for month 1:  300\n",
      ">>> Please enter the planned sales quantity for month 2:  250\n",
      ">>> Please enter the planned sales quantity for month 3:  200\n",
      ">>> Please enter the planned sales quantity for month 4:  400\n",
      ">>> Please enter the planned sales quantity for month 5:  100\n"
     ]
    },
    {
     "name": "stdout",
     "output_type": "stream",
     "text": [
      "\n",
      "\n",
      "'The resulting production quanities are:' \n",
      "\n",
      "\n",
      ">>>\n",
      " Production quantity  month 1 - 0\n",
      "\n",
      "\n",
      ">>>\n",
      " Production quantity  month 2 - 50\n",
      "\n",
      "\n",
      ">>>\n",
      " Production quantity  month 3 - 200\n",
      "\n",
      "\n",
      ">>>\n",
      " Production quantity  month 4 - 400\n",
      "\n",
      "\n",
      ">>>\n",
      " Production quantity  month 5 - 100\n",
      "\n"
     ]
    }
   ],
   "source": [
    "print('=========== Welcome to Azubi store ===========\\n') # welcome message\n",
    "\n",
    "#Asking user for inputs \n",
    "initial_stock_level = int(input(\"Enter Initial Stock Level for the Product: \")) \n",
    "number_of_months_to_plan = int(input(\"Enter Number of Months to Plan: \"))\n",
    "planned_sales_quantity = [int(input(f'>>> Please enter the planned sales quantity for month {i + 1}: ')) for i in range(number_of_months_to_plan)]\n",
    "new_stock_level = 0\n",
    "\n",
    "# declaration to explain expected program output\n",
    "print(\"\\n\\n'The resulting production quanities are:' \\n\")\n",
    "\n",
    "# conditions to determine output based on data collected from user\n",
    "for month in range(1, number_of_months_to_plan + 1):\n",
    "    sales_quantity = planned_sales_quantity[month - 1]  # Accessing the sales quantity for the current month\n",
    "    \n",
    "    if sales_quantity < initial_stock_level:\n",
    "        production_quantity = 0\n",
    "        new_stock_level = initial_stock_level - sales_quantity\n",
    "    else:\n",
    "        production_quantity = sales_quantity - initial_stock_level\n",
    "        new_stock_level = 0\n",
    "    \n",
    "    print(f'\\n>>>\\n Production quantity  month {month} - {production_quantity}\\n') # prints output for each month\n",
    "    \n",
    "    initial_stock_level = new_stock_level # returns values for initial_stock_level to be computed for the othe months"
   ]
  },
  {
   "cell_type": "code",
   "execution_count": null,
   "id": "64ba2c58-90fb-46c5-af02-467184f45491",
   "metadata": {},
   "outputs": [],
   "source": []
  }
 ],
 "metadata": {
  "kernelspec": {
   "display_name": "Python 3 (ipykernel)",
   "language": "python",
   "name": "python3"
  },
  "language_info": {
   "codemirror_mode": {
    "name": "ipython",
    "version": 3
   },
   "file_extension": ".py",
   "mimetype": "text/x-python",
   "name": "python",
   "nbconvert_exporter": "python",
   "pygments_lexer": "ipython3",
   "version": "3.10.9"
  }
 },
 "nbformat": 4,
 "nbformat_minor": 5
}
